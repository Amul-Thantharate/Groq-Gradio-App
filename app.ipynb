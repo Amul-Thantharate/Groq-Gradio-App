{
 "cells": [
  {
   "cell_type": "code",
   "execution_count": 1,
   "metadata": {},
   "outputs": [],
   "source": [
    "import gradio as gr\n",
    "import os\n",
    "import groq\n",
    "import soundfile as sf\n",
    "import numpy as np \n",
    "import io"
   ]
  },
  {
   "cell_type": "code",
   "execution_count": 2,
   "metadata": {},
   "outputs": [],
   "source": [
    "def transcribe_audio(audio, api_key):\n",
    "    if audio is None:\n",
    "        return \"\"\n",
    "    client = groq.Client(api_key=api_key)\n",
    "    audio_data = audio[1]  \n",
    "    buffer = io.BytesIO()\n",
    "    sf.write(buffer, audio_data, audio[0], format='wav')\n",
    "    buffer.seek(0)\n",
    "\n",
    "    bytes_audio = io.BytesIO()\n",
    "    np.save(bytes_audio, audio_data)\n",
    "    bytes_audio.seek(0)\n",
    "    try:\n",
    "        completion = client.audio.transcriptions.create(\n",
    "            model=\"distil-whisper-large-v3-en\",\n",
    "            file=(\"audio.wav\", buffer),\n",
    "            response_format=\"text\"\n",
    "        )\n",
    "        return completion\n",
    "    except Exception as e:\n",
    "        return f\"Error in transcription: {str(e)}\""
   ]
  },
  {
   "cell_type": "code",
   "execution_count": 3,
   "metadata": {},
   "outputs": [],
   "source": [
    "def generate_response(transcription, api_key):\n",
    "    if not transcription:\n",
    "        return \"No transcription available. Please try speaking again.\"\n",
    "    \n",
    "    client = groq.Client(api_key=api_key)\n",
    "    \n",
    "    try:\n",
    "        completion = client.chat.completions.create(\n",
    "            model=\"llama3-70b-8192\",\n",
    "            messages=[\n",
    "                {\"role\": \"system\", \"content\": \"You are a helpful assistant.\"},\n",
    "                {\"role\": \"user\", \"content\": transcription}\n",
    "            ],\n",
    "        )\n",
    "        return completion.choices[0].message.content\n",
    "    except Exception as e:\n",
    "        return f\"Error in response generation: {str(e)}\""
   ]
  },
  {
   "cell_type": "code",
   "execution_count": 4,
   "metadata": {},
   "outputs": [],
   "source": [
    "def process_audio(audio, api_key):\n",
    "    if not api_key:\n",
    "        return \"Please enter your Groq API key.\", \"API key is required.\"\n",
    "    transcription = transcribe_audio(audio, api_key)\n",
    "    response = generate_response(transcription, api_key)\n",
    "    return transcription, response"
   ]
  },
  {
   "cell_type": "code",
   "execution_count": 5,
   "metadata": {},
   "outputs": [
    {
     "name": "stdout",
     "output_type": "stream",
     "text": [
      "* Running on local URL:  http://127.0.0.1:7860\n",
      "\n",
      "To create a public link, set `share=True` in `launch()`.\n"
     ]
    },
    {
     "data": {
      "text/html": [
       "<div><iframe src=\"http://127.0.0.1:7860/\" width=\"100%\" height=\"500\" allow=\"autoplay; camera; microphone; clipboard-read; clipboard-write;\" frameborder=\"0\" allowfullscreen></iframe></div>"
      ],
      "text/plain": [
       "<IPython.core.display.HTML object>"
      ]
     },
     "metadata": {},
     "output_type": "display_data"
    },
    {
     "data": {
      "text/plain": []
     },
     "execution_count": 5,
     "metadata": {},
     "output_type": "execute_result"
    }
   ],
   "source": [
    "custom_css = \"\"\"\n",
    ".gradio-container {\n",
    "    background-color: #f5f5f5;\n",
    "}\n",
    ".gr-button-primary {\n",
    "    background-color: #f55036 !important;\n",
    "    border-color: #f55036 !important;\n",
    "}\n",
    ".gr-button-secondary {\n",
    "    color: #f55036 !important;\n",
    "    border-color: #f55036 !important;\n",
    "}\n",
    "#groq-badge {\n",
    "    position: fixed;\n",
    "    bottom: 20px;\n",
    "    right: 20px;\n",
    "    z-index: 1000;\n",
    "}\n",
    "\"\"\"\n",
    "\n",
    "with gr.Blocks(theme=gr.themes.Default()) as demo:\n",
    "    gr.Markdown(\"# 🎙️ Groq x Gradio Voice-Powered AI Assistant\")\n",
    "    \n",
    "    api_key_input = gr.Textbox(type=\"password\", label=\"Enter your Groq API Key\")\n",
    "    \n",
    "    with gr.Row():\n",
    "        audio_input = gr.Audio(label=\"Speak!\", type=\"numpy\")\n",
    "    \n",
    "    with gr.Row():\n",
    "        transcription_output = gr.Textbox(label=\"Transcription\")\n",
    "        response_output = gr.Textbox(label=\"AI Assistant Response\")\n",
    "    \n",
    "    submit_button = gr.Button(\"Process\", variant=\"primary\")\n",
    "    \n",
    "    submit_button.click(\n",
    "        process_audio,\n",
    "        inputs=[audio_input, api_key_input],\n",
    "        outputs=[transcription_output, response_output]\n",
    "    )\n",
    "demo.launch()"
   ]
  }
 ],
 "metadata": {
  "kernelspec": {
   "display_name": ".base",
   "language": "python",
   "name": "python3"
  },
  "language_info": {
   "codemirror_mode": {
    "name": "ipython",
    "version": 3
   },
   "file_extension": ".py",
   "mimetype": "text/x-python",
   "name": "python",
   "nbconvert_exporter": "python",
   "pygments_lexer": "ipython3",
   "version": "3.13.0"
  }
 },
 "nbformat": 4,
 "nbformat_minor": 2
}
